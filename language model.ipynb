{
 "cells": [
  {
   "cell_type": "code",
   "execution_count": 2,
   "id": "644a1a9d-62f0-4a38-8190-2776a6e90333",
   "metadata": {
    "tags": []
   },
   "outputs": [],
   "source": [
    "import numpy as np \n",
    "import string\n",
    "import re\n",
    "import matplotlib.pyplot as plt\n",
    "import requests\n",
    "import textwrap\n",
    "import os\n",
    "import random"
   ]
  },
  {
   "cell_type": "code",
   "execution_count": 26,
   "id": "868ae6b2-5f1e-462f-9b5a-338f1a925e9c",
   "metadata": {
    "tags": []
   },
   "outputs": [
    {
     "name": "stdout",
     "output_type": "stream",
     "text": [
      "{'a': 'x', 'b': 'b', 'c': 'p', 'd': 'k', 'e': 'l', 'f': 'd', 'g': 'q', 'h': 's', 'i': 't', 'j': 'f', 'k': 'e', 'l': 'n', 'm': 'r', 'n': 'g', 'o': 'h', 'p': 'v', 'q': 'm', 'r': 'y', 's': 'c', 't': 'w', 'u': 'o', 'v': 'z', 'w': 'u', 'x': 'i', 'y': 'a', 'z': 'j'}\n"
     ]
    }
   ],
   "source": [
    "letter1= list(string.ascii_lowercase)\n",
    "letter2=list(string.ascii_lowercase)\n",
    "true_mapping={}\n",
    "random.shuffle(letter2)\n",
    "for k ,v in zip(letter1,letter2):\n",
    "    true_mapping[k]=v\n",
    "    \n",
    "print(true_mapping)"
   ]
  },
  {
   "cell_type": "code",
   "execution_count": 27,
   "id": "1c3095c2-e209-4739-9faf-bf6ab5d8f8d1",
   "metadata": {
    "tags": []
   },
   "outputs": [],
   "source": [
    "global markovmodel\n",
    "markovmodel=np.zeros((26,26))\n",
    "global pi\n",
    "pi=np.zeros(26)\n",
    "    \n"
   ]
  },
  {
   "cell_type": "code",
   "execution_count": 29,
   "id": "3fed91b6-de92-4cd7-9e30-da976d717fdc",
   "metadata": {
    "tags": []
   },
   "outputs": [],
   "source": [
    "def update_transition(word):\n",
    "    global markovmodel\n",
    "    length=len(word)\n",
    "    for i in range(length-1):\n",
    "        ch=word[i]\n",
    "        chf=word[i+1]\n",
    "        markovmodel[ord(ch)-97,ord(chf)-97]+=1\n",
    "    \n"
   ]
  },
  {
   "cell_type": "code",
   "execution_count": 30,
   "id": "46ed8bc1-90a0-4331-8718-aa3f3398973e",
   "metadata": {
    "tags": []
   },
   "outputs": [],
   "source": [
    "def update_pi(word):\n",
    "    global pi\n",
    "    ch0=word[0]\n",
    "    pi[ord(ch0)-97]+=1\n",
    "    \n",
    "    "
   ]
  },
  {
   "cell_type": "code",
   "execution_count": 31,
   "id": "71a806f7-aace-46b4-a078-850b7cf8c20b",
   "metadata": {
    "tags": []
   },
   "outputs": [],
   "source": [
    "def get_word_prob(word):\n",
    "    global markovmodel_log\n",
    "    global pi_log\n",
    "    ## assuming that markbovmodel and pi values has passed through log function and smoothing by 1 \n",
    "    length=len(word)\n",
    "    ch0=ord(word[0])-97\n",
    "    probOfword=pi_log[ch0]\n",
    "    for i in range(length-1):\n",
    "        ch=ord(word[i])-97\n",
    "        chf=ord(word[i+1])-97\n",
    "        probOfword+=markovmodel_log[ch,chf]\n",
    "    return probOfword\n",
    "        "
   ]
  },
  {
   "cell_type": "code",
   "execution_count": 32,
   "id": "bcad4934-8897-4df0-8ad5-e4317956a88e",
   "metadata": {
    "tags": []
   },
   "outputs": [],
   "source": [
    "def get_seq_prob(sent):\n",
    "    sent=regex.sub(' ',sent)\n",
    "    tokens=sent.split()\n",
    "    \n",
    "    # print(tokens)\n",
    "    sentProb=0\n",
    "    for tok in tokens:\n",
    "        sentProb+=get_word_prob(tok)\n",
    "    return sentProb\n"
   ]
  },
  {
   "cell_type": "code",
   "execution_count": 33,
   "id": "26f7bce6-af1a-4460-bb05-18213a61a7d0",
   "metadata": {
    "tags": []
   },
   "outputs": [],
   "source": [
    "regex=re.compile('[^a-zA-Z]')\n",
    "for line in open('moby dick.txt',encoding=\"utf8\"):\n",
    "    line=line.rstrip()\n",
    "    # print(line)\n",
    "    if line:\n",
    "        line=regex.sub(' ',line)\n",
    "        line=line.lower().split()\n",
    "        for token in line:\n",
    "            update_transition(token)\n",
    "            update_pi(token)\n",
    "            \n",
    "        \n",
    "        \n"
   ]
  },
  {
   "cell_type": "code",
   "execution_count": 35,
   "id": "60da2564-77a0-4248-81d3-49c2b37845e5",
   "metadata": {
    "tags": []
   },
   "outputs": [],
   "source": [
    "pi=pi+1\n",
    "markovmodel+=1"
   ]
  },
  {
   "cell_type": "code",
   "execution_count": 36,
   "id": "bae2d971-3a4c-472d-88ad-b0af430b1715",
   "metadata": {
    "tags": []
   },
   "outputs": [],
   "source": [
    "pi_log=np.log10(pi/pi.sum())\n",
    "markovmodel_log=np.log10(markovmodel/markovmodel.sum(axis=1,keepdims=True))"
   ]
  },
  {
   "cell_type": "code",
   "execution_count": 37,
   "id": "1b88bd24-2976-4c55-bc24-323c9848fb0a",
   "metadata": {
    "tags": []
   },
   "outputs": [
    {
     "data": {
      "text/plain": [
       "-9.232196844304667"
      ]
     },
     "execution_count": 37,
     "metadata": {},
     "output_type": "execute_result"
    }
   ],
   "source": [
    "get_seq_prob(\" how are you \")"
   ]
  },
  {
   "cell_type": "code",
   "execution_count": 38,
   "id": "ba19e609-64e6-4c63-9380-a5ddb770d80e",
   "metadata": {},
   "outputs": [],
   "source": [
    "original_messege='''\n",
    "I then lounged down the street and found,\n",
    "as I expected, that there was a mews in a lane which runs down\n",
    "by one wall of the garden. I lent the ostlers a hand in rubbing\n",
    "down their horses, and received in exchange twopence, a glass of\n",
    "half-and-half, two fills of shag tobacco, and as much information\n",
    "as I could desire about Miss Adler, to say nothing of half a dozen\n",
    "other people in the neighbourhood in whom I was not in the least\n",
    "interested, but whose biographies I was compelled to listen to.\n",
    "'''"
   ]
  },
  {
   "cell_type": "code",
   "execution_count": 39,
   "id": "c44894fc-c7d3-40c9-ab7e-0a736b7c2e11",
   "metadata": {
    "tags": []
   },
   "outputs": [
    {
     "data": {
      "text/plain": [
       "'ra gxrl tc xktwax'"
      ]
     },
     "execution_count": 39,
     "metadata": {},
     "output_type": "execute_result"
    }
   ],
   "source": [
    "def encoding_msg(messege):\n",
    "    messege=regex.sub(\" \",messege)\n",
    "    messege=messege.lower()\n",
    "    # print(messege)\n",
    "    coded_msg=[]\n",
    "    for ch in messege:\n",
    "        codedch=ch\n",
    "        if ch in true_mapping:\n",
    "            codedch=true_mapping[ch]\n",
    "        coded_msg.append(codedch)\n",
    "    return \"\".join(coded_msg)\n",
    "    \n",
    "    \n",
    "encoding_msg(\"my name is aditya\")"
   ]
  },
  {
   "cell_type": "code",
   "execution_count": 40,
   "id": "53300f7f-d5db-4f03-a024-7ed9fa79832d",
   "metadata": {
    "tags": []
   },
   "outputs": [],
   "source": [
    "encoded_msg=encoding_msg(original_messege)"
   ]
  },
  {
   "cell_type": "code",
   "execution_count": 41,
   "id": "9daced13-44ce-4884-81d5-9c8dc80b2f47",
   "metadata": {
    "tags": []
   },
   "outputs": [],
   "source": [
    "def decodingMsg(msg,word_map):\n",
    "    decodedMsg=[]\n",
    "    for ch in msg:\n",
    "        decodech=ch\n",
    "        if ch in word_map:\n",
    "            decodech=word_map[ch]\n",
    "        decodedMsg.append(decodech)\n",
    "    return \"\".join(decodedMsg)\n"
   ]
  },
  {
   "cell_type": "code",
   "execution_count": 42,
   "id": "16c4c705-a008-480d-9105-9009bdd3e9cb",
   "metadata": {
    "tags": []
   },
   "outputs": [
    {
     "data": {
      "text/plain": [
       "dict_items([('a', 'x'), ('b', 'b'), ('c', 'p'), ('d', 'k'), ('e', 'l'), ('f', 'd'), ('g', 'q'), ('h', 's'), ('i', 't'), ('j', 'f'), ('k', 'e'), ('l', 'n'), ('m', 'r'), ('n', 'g'), ('o', 'h'), ('p', 'v'), ('q', 'm'), ('r', 'y'), ('s', 'c'), ('t', 'w'), ('u', 'o'), ('v', 'z'), ('w', 'u'), ('x', 'i'), ('y', 'a'), ('z', 'j')])"
      ]
     },
     "execution_count": 42,
     "metadata": {},
     "output_type": "execute_result"
    }
   ],
   "source": [
    "true_mapping.items()"
   ]
  },
  {
   "cell_type": "code",
   "execution_count": 43,
   "id": "785de4c0-855f-4437-8665-b18e91c79a15",
   "metadata": {
    "tags": []
   },
   "outputs": [
    {
     "data": {
      "text/plain": [
       "' i then lounged down the street and found  as i expected  that there was a mews in a lane which runs down by one wall of the garden  i lent the ostlers a hand in rubbing down their horses  and received in exchange twopence  a glass of half and half  two fills of shag tobacco  and as much information as i could desire about miss adler  to say nothing of half a dozen other people in the neighbourhood in whom i was not in the least interested  but whose biographies i was compelled to listen to  '"
      ]
     },
     "execution_count": 43,
     "metadata": {},
     "output_type": "execute_result"
    }
   ],
   "source": [
    "decodingMsg(encoded_msg,{v:k for k,v in true_mapping.items()})"
   ]
  },
  {
   "cell_type": "code",
   "execution_count": 44,
   "id": "d0c715d7-7636-477d-9798-c1a8b02fb65d",
   "metadata": {
    "tags": []
   },
   "outputs": [
    {
     "name": "stdout",
     "output_type": "stream",
     "text": [
      "[['b', 'y', 'n', 'h', 'w', 'e', 'x', 'j', 't', 'z', 'd', 'o', 'q', 'f', 'k', 'c', 'l', 'r', 'm', 'g', 's', 'u', 'p', 'v', 'i', 'a'], ['c', 'w', 'n', 'q', 'y', 'g', 'r', 'j', 'f', 'p', 'l', 'o', 'a', 'h', 'k', 'd', 't', 'e', 'x', 'b', 'z', 's', 'm', 'u', 'i', 'v'], ['p', 'v', 'd', 's', 'c', 'o', 'l', 'a', 'w', 'u', 't', 'r', 'f', 'm', 'z', 'x', 'n', 'q', 'e', 'h', 'j', 'i', 'g', 'b', 'k', 'y'], ['c', 'o', 'w', 'b', 'a', 'p', 'n', 'm', 'x', 's', 'u', 'd', 'z', 'q', 'y', 'f', 'k', 'l', 'i', 'h', 'e', 'j', 'v', 'r', 't', 'g'], ['g', 'b', 'y', 'u', 'z', 'c', 'q', 'a', 'h', 'v', 'e', 'x', 'k', 'f', 'j', 'w', 'r', 'n', 't', 'd', 'l', 'm', 'o', 'i', 'p', 's'], ['x', 'j', 'h', 'g', 'o', 'r', 'i', 's', 'u', 'k', 'a', 'l', 'v', 'z', 'e', 'y', 'n', 'p', 'f', 'b', 't', 'w', 'd', 'q', 'c', 'm'], ['n', 'j', 'o', 'p', 'c', 'l', 'r', 'x', 'd', 'g', 'b', 'w', 'y', 'h', 'u', 'v', 'i', 't', 'f', 'e', 'z', 'a', 's', 'q', 'm', 'k'], ['v', 'i', 'a', 'm', 'e', 'z', 'k', 'd', 'r', 'w', 'c', 'u', 'n', 'q', 'h', 'j', 't', 'g', 'y', 'b', 'p', 'o', 's', 'f', 'l', 'x'], ['w', 'q', 'x', 'b', 'e', 't', 'h', 'i', 'v', 'o', 'm', 'g', 'y', 'l', 'r', 'j', 'n', 'k', 'z', 'd', 'u', 'c', 'a', 'f', 's', 'p'], ['r', 'p', 'm', 'j', 't', 'a', 'f', 'w', 's', 'q', 'h', 'z', 'x', 'y', 'o', 'b', 'n', 'd', 'g', 'u', 'v', 'e', 'i', 'c', 'k', 'l'], ['p', 'x', 'q', 'h', 'l', 'u', 't', 'r', 's', 'n', 'j', 'g', 'i', 'z', 'b', 'f', 'k', 'a', 'y', 'o', 'c', 'w', 'd', 'e', 'm', 'v'], ['w', 'o', 't', 's', 'z', 'u', 'j', 'x', 'q', 'f', 'y', 'k', 'n', 'a', 'g', 'p', 'c', 'b', 'm', 'l', 'r', 'h', 'v', 'e', 'd', 'i'], ['t', 'f', 'i', 'w', 'r', 'e', 'q', 'v', 'l', 'a', 'b', 'o', 'y', 'j', 'u', 'k', 's', 'g', 'p', 'c', 'z', 'n', 'm', 'x', 'd', 'h'], ['s', 'h', 'l', 'b', 't', 'g', 'v', 'k', 'y', 'o', 'x', 'w', 'a', 'p', 'q', 'j', 'f', 'e', 'n', 'c', 'i', 'm', 'd', 'r', 'u', 'z'], ['j', 'm', 'k', 'd', 'w', 'u', 'x', 'c', 's', 'e', 'b', 'r', 't', 'q', 'o', 'f', 'p', 'g', 'n', 'i', 'l', 'y', 'z', 'h', 'v', 'a'], ['a', 'u', 'r', 'v', 'z', 'd', 'g', 'e', 'x', 'h', 't', 'm', 'f', 'q', 'c', 'k', 'n', 'i', 'w', 'b', 'y', 'j', 'p', 'o', 'l', 's'], ['j', 'b', 's', 'w', 'v', 'm', 'z', 'p', 'o', 'k', 'i', 'e', 'd', 'y', 'x', 'a', 'q', 'l', 'f', 'c', 'r', 'h', 'n', 'g', 'u', 't'], ['q', 'k', 'b', 'v', 'h', 'o', 'j', 's', 'd', 'z', 'p', 'l', 'n', 'y', 'w', 'e', 'r', 'c', 'g', 'x', 't', 'm', 'i', 'u', 'f', 'a'], ['q', 'l', 'o', 'n', 'x', 'i', 'f', 't', 'b', 'd', 'j', 'a', 'z', 'e', 'w', 'g', 'u', 'r', 'm', 's', 'c', 'h', 'y', 'k', 'p', 'v'], ['e', 'p', 'j', 'u', 's', 'd', 'h', 'x', 'n', 'i', 'l', 'f', 'a', 'y', 'b', 'q', 't', 'c', 'w', 'm', 'k', 'v', 'z', 'r', 'g', 'o']]\n"
     ]
    }
   ],
   "source": [
    "## createing dna pool\n",
    "dna_pool=[]\n",
    "for _ in range(20):\n",
    "    dna=list(string.ascii_lowercase)\n",
    "    random.shuffle(dna)\n",
    "    dna_pool.append(dna)\n",
    "print(dna_pool)"
   ]
  },
  {
   "cell_type": "code",
   "execution_count": 45,
   "id": "f223b7ad-4518-4c21-82e4-87bc01531b18",
   "metadata": {
    "tags": []
   },
   "outputs": [],
   "source": [
    "def evolve_offspring(dnaPool,n_children):\n",
    "    \n",
    "    offspring=[]\n",
    "    for dna in dnaPool:\n",
    "        for _ in range(n_children):\n",
    "            copy=dna.copy()\n",
    "            j=np.random.randint(len(copy))\n",
    "            i=np.random.randint(len(copy))\n",
    "            temp=copy[i]\n",
    "            copy[i]=copy[j]\n",
    "            copy[j]=temp\n",
    "            offspring.append(copy.copy())\n",
    "    return offspring+dna_pool\n",
    "            "
   ]
  },
  {
   "cell_type": "code",
   "execution_count": 46,
   "id": "8c250aeb-7ffc-4f17-a57a-2334edfcce05",
   "metadata": {
    "tags": []
   },
   "outputs": [
    {
     "data": {
      "text/plain": [
       "80"
      ]
     },
     "execution_count": 46,
     "metadata": {},
     "output_type": "execute_result"
    }
   ],
   "source": [
    "len(evolve_offspring(dna_pool,3))"
   ]
  },
  {
   "cell_type": "code",
   "execution_count": 161,
   "id": "d341d8eb-5d4c-4ba4-91c8-2f19d392b8c0",
   "metadata": {
    "tags": []
   },
   "outputs": [
    {
     "name": "stdout",
     "output_type": "stream",
     "text": [
      "-551.3633157605058\n"
     ]
    }
   ],
   "source": [
    "for k,v in zip(letter2,dna):\n",
    "    currentMap[k]=v\n",
    "decodedMsg=decodingMsg(encoded_msg,currentMap)\n",
    "decodedMsg\n",
    "score=get_seq_prob(decodedMsg)\n",
    "print(score)"
   ]
  },
  {
   "cell_type": "code",
   "execution_count": 47,
   "id": "88729d75-990e-4e2d-b2bb-a81816e1f878",
   "metadata": {
    "tags": []
   },
   "outputs": [
    {
     "name": "stdout",
     "output_type": "stream",
     "text": [
      "iter: 0 score -912.6357243527582 best_score -771.7912959051623\n",
      "iter: 200 score -477.5032885820671 best_score -443.1805797619966\n",
      "iter: 400 score -437.85167915141295 best_score -403.71710551756644\n",
      "iter: 600 score -440.5084590662931 best_score -403.71710551756644\n",
      "iter: 800 score -446.0249339112432 best_score -403.71710551756644\n",
      "iter: 1000 score -429.6867304604706 best_score -403.71710551756644\n",
      "iter: 1200 score -453.92063520772916 best_score -403.71710551756644\n",
      "iter: 1400 score -447.0596385893431 best_score -403.71710551756644\n",
      "iter: 1600 score -442.04412320306966 best_score -403.71710551756644\n",
      "iter: 1800 score -451.6802815299626 best_score -403.71710551756644\n",
      "iter: 2000 score -447.00419100830624 best_score -403.71710551756644\n",
      "iter: 2200 score -451.90269113486295 best_score -403.71710551756644\n",
      "iter: 2400 score -450.6304354835899 best_score -403.71710551756644\n",
      "iter: 2600 score -453.36368354900276 best_score -403.71710551756644\n",
      "iter: 2800 score -443.56479366832144 best_score -403.71710551756644\n",
      "iter: 3000 score -429.05794375026176 best_score -403.71710551756644\n",
      "iter: 3200 score -437.53572327887673 best_score -403.71710551756644\n",
      "iter: 3400 score -456.77569579016836 best_score -403.71710551756644\n",
      "iter: 3600 score -461.9354875837679 best_score -403.71710551756644\n",
      "iter: 3800 score -435.4270392878831 best_score -403.71710551756644\n",
      "iter: 4000 score -442.20933289209614 best_score -403.71710551756644\n",
      "iter: 4200 score -437.01008952611255 best_score -403.71710551756644\n",
      "iter: 4400 score -451.32185124699936 best_score -403.71710551756644\n",
      "iter: 4600 score -453.6026459113661 best_score -403.71710551756644\n",
      "iter: 4800 score -445.82533511434895 best_score -403.71710551756644\n",
      "iter: 5000 score -434.0983788830842 best_score -403.71710551756644\n",
      "iter: 5200 score -448.80898449857966 best_score -403.71710551756644\n",
      "iter: 5400 score -448.18099817633373 best_score -403.71710551756644\n",
      "iter: 5600 score -456.2679073841268 best_score -403.71710551756644\n",
      "iter: 5800 score -436.3933901515258 best_score -403.71710551756644\n",
      "iter: 6000 score -431.51137430643814 best_score -403.71710551756644\n",
      "iter: 6200 score -448.7350297274829 best_score -403.71710551756644\n",
      "iter: 6400 score -422.641779270821 best_score -403.71710551756644\n",
      "iter: 6600 score -433.408563490085 best_score -403.71710551756644\n",
      "iter: 6800 score -439.83521439848835 best_score -403.71710551756644\n",
      "iter: 7000 score -437.1717931617954 best_score -403.71710551756644\n",
      "iter: 7200 score -436.91857728725006 best_score -403.71710551756644\n",
      "iter: 7400 score -443.4607852509395 best_score -403.71710551756644\n",
      "iter: 7600 score -444.8610001375022 best_score -403.71710551756644\n",
      "iter: 7800 score -448.5275953216498 best_score -403.71710551756644\n",
      "iter: 8000 score -440.1016612291677 best_score -403.71710551756644\n",
      "iter: 8200 score -440.92468575442524 best_score -403.71710551756644\n",
      "iter: 8400 score -434.22118561286504 best_score -403.71710551756644\n",
      "iter: 8600 score -443.9291602790271 best_score -403.71710551756644\n",
      "iter: 8800 score -453.36217036204226 best_score -403.71710551756644\n",
      "iter: 9000 score -426.8182851588119 best_score -403.71710551756644\n",
      "iter: 9200 score -434.7872928572371 best_score -403.71710551756644\n",
      "iter: 9400 score -443.0552556629468 best_score -403.71710551756644\n",
      "iter: 9600 score -437.9872332339275 best_score -403.71710551756644\n",
      "iter: 9800 score -448.9589860484736 best_score -403.71710551756644\n"
     ]
    }
   ],
   "source": [
    "numofiter=10000\n",
    "bestmap=None\n",
    "bestscore=float('-inf')\n",
    "bestdna=None\n",
    "scores=np.zeros(numofiter)\n",
    "for i in range(numofiter):\n",
    "    if i>0:\n",
    "        dna_pool=evolve_offspring(dna_pool,3)\n",
    "    dna2score={}\n",
    "    for dna in dna_pool:\n",
    "        \n",
    "        currentMap={}\n",
    "        for k,v in zip(letter1,dna):\n",
    "            currentMap[k]=v\n",
    "        decodedMsg=decodingMsg(encoded_msg,currentMap)\n",
    "        score=get_seq_prob(decodedMsg)\n",
    "        dna2score[''.join(dna)]=score\n",
    "        # print(dna2score)\n",
    "        if score>bestscore:\n",
    "            bestscore=score\n",
    "            bestdna=dna\n",
    "            bestmap=currentMap\n",
    "    scores[i]=np.mean(list(dna2score.values()))\n",
    "    sorted_dna=sorted(dna2score.items(),key=lambda x : x[1],reverse=True)\n",
    "    # print(sorted_dna)\n",
    "    dna_pool=[list(k) for k,v in sorted_dna[:5]]\n",
    "    if i%200==0:\n",
    "        print(\"iter:\",i,'score',scores[i],'best_score',bestscore)"
   ]
  },
  {
   "cell_type": "code",
   "execution_count": 48,
   "id": "dedc0753-3755-4d53-bd43-85c63d562d54",
   "metadata": {},
   "outputs": [
    {
     "data": {
      "text/plain": [
       "[('ybsfqjnoxkdezlucgmhiwptarv', -403.71710551756644),\n",
       " ('ybsfzjnoxkdeqlucgmhiwptarv', -403.71710551756644),\n",
       " ('ybsfjznoxkdeqlucgmhiwptarv', -403.71710551756644),\n",
       " ('ybsfjqnoxkdezlucgmhiwptarv', -403.71710551756644),\n",
       " ('ybsfzqnoxkdejlucgmhiwptarv', -403.71710551756644),\n",
       " ('zbsfjqnoxkdeylucgmhiwptarv', -407.89721727997835),\n",
       " ('ybsfjznoxkceqludgmhiwptarv', -421.76995567525955),\n",
       " ('ybsfzjnoxkdeqlucgmhipwtarv', -427.3255749205122),\n",
       " ('rbsfjqnoxkdezlucgmhiwptayv', -427.6630106506581),\n",
       " ('ybsfzqdoxknejlucgmhiwptarv', -445.6331809395183),\n",
       " ('ybwfqjnoxkdezlucgmhisptarv', -450.59611304385464),\n",
       " ('ybsfzjnoxkdequlcgmhiwptarv', -450.67071145314213),\n",
       " ('ybsfzqnoxkdujlecgmhiwptarv', -468.52185509999634),\n",
       " ('ybsiqjnoxkdezlucgmhfwptarv', -473.06288038352767),\n",
       " ('ybsfzjnoxkdeqlucgmhiwpvart', -502.0160435602706),\n",
       " ('ybsfjzxonkdeqlucgmhiwptarv', -507.4034534621254),\n",
       " ('yosfjqnbxkdezlucgmhiwptarv', -515.9011736390013),\n",
       " ('ybsfqjncxkdezluogmhiwptarv', -528.2054886725347),\n",
       " ('ybsfjznoxkdhqlucgmeiwptarv', -549.0630176396049),\n",
       " ('ybsfzqnoxkdjelucgmhiwptarv', -616.4654176791233)]"
      ]
     },
     "execution_count": 48,
     "metadata": {},
     "output_type": "execute_result"
    }
   ],
   "source": [
    "sorted_dna"
   ]
  },
  {
   "cell_type": "code",
   "execution_count": 49,
   "id": "4dba1066-c397-402e-bf46-78bd92135f78",
   "metadata": {
    "tags": []
   },
   "outputs": [],
   "source": [
    "decoded_message = decodingMsg(encoded_msg, bestmap)\n"
   ]
  },
  {
   "cell_type": "code",
   "execution_count": 52,
   "id": "5469d749-6ca4-4f13-8e63-46b774c8dae0",
   "metadata": {
    "tags": []
   },
   "outputs": [
    {
     "data": {
      "text/plain": [
       "' t wslg nhogqlk khug wsl cwyllw xgk dhogk  xc t livlpwlk  wsxw wslyl uxc x rluc tg x nxgl ustps yogc khug ba hgl uxnn hd wsl qxyklg  t nlgw wsl hcwnlyc x sxgk tg yobbtgq khug wslty shyclc  xgk ylpltzlk tg lipsxgql wuhvlgpl  x qnxcc hd sxnd xgk sxnd  wuh dtnnc hd csxq whbxpph  xgk xc rops tgdhyrxwthg xc t phonk klctyl xbhow rtcc xknly  wh cxa ghwstgq hd sxnd x khjlg hwsly vlhvnl tg wsl gltqsbhoyshhk tg ushr t uxc ghw tg wsl nlxcw tgwlylcwlk  bow ushcl bthqyxvstlc t uxc phrvlnnlk wh ntcwlg wh  '"
      ]
     },
     "execution_count": 52,
     "metadata": {},
     "output_type": "execute_result"
    }
   ],
   "source": [
    "encoded_msg # cypher text"
   ]
  },
  {
   "cell_type": "code",
   "execution_count": 53,
   "id": "cd568bad-8a4f-4a94-b7e8-5132cb7daf59",
   "metadata": {
    "tags": []
   },
   "outputs": [
    {
     "data": {
      "text/plain": [
       "' i then lounged down the street and found  as i expected  that there was a mews in a lane which runs down by one wall of the garden  i lent the ostlers a hand in rubbing down their horses  and received in exchange twopence  a glass of half and half  two fills of shag tobacco  and as much information as i could desire about miss adler  to say nothing of half a doken other people in the neighbourhood in whom i was not in the least interested  but whose biographies i was compelled to listen to  '"
      ]
     },
     "execution_count": 53,
     "metadata": {},
     "output_type": "execute_result"
    }
   ],
   "source": [
    "decoded_message # decrypted text"
   ]
  },
  {
   "cell_type": "code",
   "execution_count": null,
   "id": "5e385ed3-af7f-4c80-adac-8d833eebbff5",
   "metadata": {},
   "outputs": [],
   "source": []
  }
 ],
 "metadata": {
  "kernelspec": {
   "display_name": "Python 3 (ipykernel)",
   "language": "python",
   "name": "python3"
  },
  "language_info": {
   "codemirror_mode": {
    "name": "ipython",
    "version": 3
   },
   "file_extension": ".py",
   "mimetype": "text/x-python",
   "name": "python",
   "nbconvert_exporter": "python",
   "pygments_lexer": "ipython3",
   "version": "3.11.5"
  }
 },
 "nbformat": 4,
 "nbformat_minor": 5
}
